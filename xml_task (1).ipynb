{
  "cells": [
    {
      "cell_type": "code",
      "execution_count": 1,
      "metadata": {
        "id": "dSkCtsgdW_R5"
      },
      "outputs": [],
      "source": [
        "import pandas as pd\n",
        "import xml.etree.ElementTree as ET\n",
        "import matplotlib.pyplot as plt"
      ]
    },
    {
      "cell_type": "code",
      "execution_count": 4,
      "metadata": {
        "id": "HMxVHlU-W_R6"
      },
      "outputs": [],
      "source": [
        "xml_data = \"\"\"\n",
        "<students>\n",
        "  <student SID=\"1\">\n",
        "    <firstName>Sandy</firstName>\n",
        "    <lastName>Guillaumeau</lastName>\n",
        "    <date>1988-04-09</date>\n",
        "  </student>\n",
        "  <student SID=“2\">\n",
        "    <firstName>Quentin</firstName>\n",
        "    <lastName>Decayeux</lastName>\n",
        "    <date>1990-02-01</date>\n",
        "  </student>\n",
        "</students>\n",
        "\"\"\""
      ]
    },
    {
      "cell_type": "code",
      "execution_count": 5,
      "metadata": {
        "colab": {
          "base_uri": "https://localhost:8080/",
          "height": 273
        },
        "id": "SYAbXq8eW_R7",
        "outputId": "1b086336-e4f4-4e23-ffcb-bd6b2f1cf15d"
      },
      "outputs": [
        {
          "output_type": "error",
          "ename": "ParseError",
          "evalue": "not well-formed (invalid token): line 8, column 15 (<string>)",
          "traceback": [
            "Traceback \u001b[0;36m(most recent call last)\u001b[0m:\n",
            "  File \u001b[1;32m\"/usr/local/lib/python3.11/dist-packages/IPython/core/interactiveshell.py\"\u001b[0m, line \u001b[1;32m3553\u001b[0m, in \u001b[1;35mrun_code\u001b[0m\n    exec(code_obj, self.user_global_ns, self.user_ns)\n",
            "  File \u001b[1;32m\"<ipython-input-5-78cd0ab3f76e>\"\u001b[0m, line \u001b[1;32m2\u001b[0m, in \u001b[1;35m<cell line: 0>\u001b[0m\n    root = ET.fromstring(xml_data)\n",
            "\u001b[0;36m  File \u001b[0;32m\"/usr/lib/python3.11/xml/etree/ElementTree.py\"\u001b[0;36m, line \u001b[0;32m1350\u001b[0;36m, in \u001b[0;35mXML\u001b[0;36m\u001b[0m\n\u001b[0;31m    parser.feed(text)\u001b[0m\n",
            "\u001b[0;36m  File \u001b[0;32m\"<string>\"\u001b[0;36m, line \u001b[0;32munknown\u001b[0m\n\u001b[0;31mParseError\u001b[0m\u001b[0;31m:\u001b[0m not well-formed (invalid token): line 8, column 15\n"
          ]
        }
      ],
      "source": [
        "# Parse the XML\n",
        "root = ET.fromstring(xml_data)"
      ]
    },
    {
      "cell_type": "code",
      "execution_count": null,
      "metadata": {
        "id": "v7QCmuP_W_R7"
      },
      "outputs": [],
      "source": [
        "data = []\n",
        "for customer in root.findall('Customer'):\n",
        "    customer_id = customer.find('CustomerID').text\n",
        "    customer_name = customer.find('Name').text\n",
        "    customer_email = customer.find('Email').text\n",
        "    for order in customer.findall('.//Order'):\n",
        "        order_id = order.find('OrderID').text\n",
        "        order_date = order.find('OrderDate').text\n",
        "        for item in order.findall('.//Item'):\n",
        "            product_id = item.find('ProductID').text\n",
        "            product_name = item.find('ProductName').text\n",
        "            price = float(item.find('Price').text)\n",
        "            quantity = int(item.find('Quantity').text)\n",
        "            total_price = price * quantity\n",
        "            data.append([customer_id, customer_name, customer_email, order_id, order_date, product_id, product_name, price, quantity, total_price])\n",
        "\n"
      ]
    },
    {
      "cell_type": "code",
      "execution_count": null,
      "metadata": {
        "id": "XJsf1KteW_R8",
        "outputId": "972dc1a6-1a01-4012-eb80-c71482976577"
      },
      "outputs": [
        {
          "data": {
            "text/html": [
              "<div>\n",
              "<style scoped>\n",
              "    .dataframe tbody tr th:only-of-type {\n",
              "        vertical-align: middle;\n",
              "    }\n",
              "\n",
              "    .dataframe tbody tr th {\n",
              "        vertical-align: top;\n",
              "    }\n",
              "\n",
              "    .dataframe thead th {\n",
              "        text-align: right;\n",
              "    }\n",
              "</style>\n",
              "<table border=\"1\" class=\"dataframe\">\n",
              "  <thead>\n",
              "    <tr style=\"text-align: right;\">\n",
              "      <th></th>\n",
              "      <th>CustomerID</th>\n",
              "      <th>CustomerName</th>\n",
              "      <th>CustomerEmail</th>\n",
              "      <th>OrderID</th>\n",
              "      <th>OrderDate</th>\n",
              "      <th>ProductID</th>\n",
              "      <th>ProductName</th>\n",
              "      <th>Price</th>\n",
              "      <th>Quantity</th>\n",
              "      <th>TotalPrice</th>\n",
              "    </tr>\n",
              "  </thead>\n",
              "  <tbody>\n",
              "    <tr>\n",
              "      <th>0</th>\n",
              "      <td>001</td>\n",
              "      <td>John Doe</td>\n",
              "      <td>johndoe@example.com</td>\n",
              "      <td>1001</td>\n",
              "      <td>2025-01-01</td>\n",
              "      <td>P001</td>\n",
              "      <td>Laptop</td>\n",
              "      <td>1200.0</td>\n",
              "      <td>1</td>\n",
              "      <td>1200.0</td>\n",
              "    </tr>\n",
              "    <tr>\n",
              "      <th>1</th>\n",
              "      <td>001</td>\n",
              "      <td>John Doe</td>\n",
              "      <td>johndoe@example.com</td>\n",
              "      <td>1001</td>\n",
              "      <td>2025-01-01</td>\n",
              "      <td>P002</td>\n",
              "      <td>Mouse</td>\n",
              "      <td>25.0</td>\n",
              "      <td>2</td>\n",
              "      <td>50.0</td>\n",
              "    </tr>\n",
              "    <tr>\n",
              "      <th>2</th>\n",
              "      <td>001</td>\n",
              "      <td>John Doe</td>\n",
              "      <td>johndoe@example.com</td>\n",
              "      <td>1002</td>\n",
              "      <td>2025-01-05</td>\n",
              "      <td>P003</td>\n",
              "      <td>Monitor</td>\n",
              "      <td>300.0</td>\n",
              "      <td>1</td>\n",
              "      <td>300.0</td>\n",
              "    </tr>\n",
              "    <tr>\n",
              "      <th>3</th>\n",
              "      <td>002</td>\n",
              "      <td>Jane Smith</td>\n",
              "      <td>janesmith@example.com</td>\n",
              "      <td>1003</td>\n",
              "      <td>2025-01-07</td>\n",
              "      <td>P004</td>\n",
              "      <td>Tablet</td>\n",
              "      <td>500.0</td>\n",
              "      <td>1</td>\n",
              "      <td>500.0</td>\n",
              "    </tr>\n",
              "  </tbody>\n",
              "</table>\n",
              "</div>"
            ],
            "text/plain": [
              "  CustomerID CustomerName          CustomerEmail OrderID   OrderDate  \\\n",
              "0        001     John Doe    johndoe@example.com    1001  2025-01-01   \n",
              "1        001     John Doe    johndoe@example.com    1001  2025-01-01   \n",
              "2        001     John Doe    johndoe@example.com    1002  2025-01-05   \n",
              "3        002   Jane Smith  janesmith@example.com    1003  2025-01-07   \n",
              "\n",
              "  ProductID ProductName   Price  Quantity  TotalPrice  \n",
              "0      P001      Laptop  1200.0         1      1200.0  \n",
              "1      P002       Mouse    25.0         2        50.0  \n",
              "2      P003     Monitor   300.0         1       300.0  \n",
              "3      P004      Tablet   500.0         1       500.0  "
            ]
          },
          "execution_count": 6,
          "metadata": {},
          "output_type": "execute_result"
        }
      ],
      "source": [
        "# Create a DataFrame\n",
        "df = pd.DataFrame(data, columns=['CustomerID', 'CustomerName', 'CustomerEmail', 'OrderID', 'OrderDate', 'ProductID', 'ProductName', 'Price', 'Quantity', 'TotalPrice'])\n",
        "df"
      ]
    },
    {
      "cell_type": "code",
      "execution_count": null,
      "metadata": {
        "id": "TFt8zJ0-W_R8",
        "outputId": "330426b8-db28-43b9-9497-6d1a2de7676a"
      },
      "outputs": [
        {
          "data": {
            "text/html": [
              "<div>\n",
              "<style scoped>\n",
              "    .dataframe tbody tr th:only-of-type {\n",
              "        vertical-align: middle;\n",
              "    }\n",
              "\n",
              "    .dataframe tbody tr th {\n",
              "        vertical-align: top;\n",
              "    }\n",
              "\n",
              "    .dataframe thead th {\n",
              "        text-align: right;\n",
              "    }\n",
              "</style>\n",
              "<table border=\"1\" class=\"dataframe\">\n",
              "  <thead>\n",
              "    <tr style=\"text-align: right;\">\n",
              "      <th></th>\n",
              "      <th>CustomerID</th>\n",
              "      <th>TotalRevenue</th>\n",
              "    </tr>\n",
              "  </thead>\n",
              "  <tbody>\n",
              "    <tr>\n",
              "      <th>0</th>\n",
              "      <td>001</td>\n",
              "      <td>1550.0</td>\n",
              "    </tr>\n",
              "    <tr>\n",
              "      <th>1</th>\n",
              "      <td>002</td>\n",
              "      <td>500.0</td>\n",
              "    </tr>\n",
              "  </tbody>\n",
              "</table>\n",
              "</div>"
            ],
            "text/plain": [
              "  CustomerID  TotalRevenue\n",
              "0        001        1550.0\n",
              "1        002         500.0"
            ]
          },
          "execution_count": 7,
          "metadata": {},
          "output_type": "execute_result"
        }
      ],
      "source": [
        "# Task 2: Calculate total revenue per customer\n",
        "customer_revenue = df.groupby('CustomerID')['TotalPrice'].sum().reset_index()\n",
        "customer_revenue.columns = ['CustomerID', 'TotalRevenue']\n",
        "customer_revenue"
      ]
    },
    {
      "cell_type": "code",
      "execution_count": null,
      "metadata": {
        "id": "0029_sYDW_R9",
        "outputId": "27b7ce4c-40ad-4c5a-a054-7fea1075f731"
      },
      "outputs": [
        {
          "data": {
            "text/html": [
              "<div>\n",
              "<style scoped>\n",
              "    .dataframe tbody tr th:only-of-type {\n",
              "        vertical-align: middle;\n",
              "    }\n",
              "\n",
              "    .dataframe tbody tr th {\n",
              "        vertical-align: top;\n",
              "    }\n",
              "\n",
              "    .dataframe thead th {\n",
              "        text-align: right;\n",
              "    }\n",
              "</style>\n",
              "<table border=\"1\" class=\"dataframe\">\n",
              "  <thead>\n",
              "    <tr style=\"text-align: right;\">\n",
              "      <th></th>\n",
              "      <th>ProductName</th>\n",
              "      <th>TotalPrice</th>\n",
              "    </tr>\n",
              "  </thead>\n",
              "  <tbody>\n",
              "    <tr>\n",
              "      <th>0</th>\n",
              "      <td>Laptop</td>\n",
              "      <td>1200.0</td>\n",
              "    </tr>\n",
              "    <tr>\n",
              "      <th>3</th>\n",
              "      <td>Tablet</td>\n",
              "      <td>500.0</td>\n",
              "    </tr>\n",
              "    <tr>\n",
              "      <th>1</th>\n",
              "      <td>Monitor</td>\n",
              "      <td>300.0</td>\n",
              "    </tr>\n",
              "    <tr>\n",
              "      <th>2</th>\n",
              "      <td>Mouse</td>\n",
              "      <td>50.0</td>\n",
              "    </tr>\n",
              "  </tbody>\n",
              "</table>\n",
              "</div>"
            ],
            "text/plain": [
              "  ProductName  TotalPrice\n",
              "0      Laptop      1200.0\n",
              "3      Tablet       500.0\n",
              "1     Monitor       300.0\n",
              "2       Mouse        50.0"
            ]
          },
          "execution_count": 8,
          "metadata": {},
          "output_type": "execute_result"
        }
      ],
      "source": [
        "# Task 3: Identify top products by total revenue\n",
        "product_revenue = df.groupby('ProductName')['TotalPrice'].sum().reset_index()\n",
        "product_revenue = product_revenue.sort_values(by='TotalPrice', ascending=False)\n",
        "product_revenue"
      ]
    },
    {
      "cell_type": "code",
      "execution_count": null,
      "metadata": {
        "id": "7PCUijfvW_R9",
        "outputId": "7b6e1e8b-7fbc-4bb4-c6a3-a2c896b31f0e"
      },
      "outputs": [
        {
          "data": {
            "text/html": [
              "<div>\n",
              "<style scoped>\n",
              "    .dataframe tbody tr th:only-of-type {\n",
              "        vertical-align: middle;\n",
              "    }\n",
              "\n",
              "    .dataframe tbody tr th {\n",
              "        vertical-align: top;\n",
              "    }\n",
              "\n",
              "    .dataframe thead th {\n",
              "        text-align: right;\n",
              "    }\n",
              "</style>\n",
              "<table border=\"1\" class=\"dataframe\">\n",
              "  <thead>\n",
              "    <tr style=\"text-align: right;\">\n",
              "      <th></th>\n",
              "      <th>ProductName</th>\n",
              "      <th>TotalPrice</th>\n",
              "    </tr>\n",
              "  </thead>\n",
              "  <tbody>\n",
              "    <tr>\n",
              "      <th>0</th>\n",
              "      <td>Laptop</td>\n",
              "      <td>1200.0</td>\n",
              "    </tr>\n",
              "    <tr>\n",
              "      <th>3</th>\n",
              "      <td>Tablet</td>\n",
              "      <td>500.0</td>\n",
              "    </tr>\n",
              "    <tr>\n",
              "      <th>1</th>\n",
              "      <td>Monitor</td>\n",
              "      <td>300.0</td>\n",
              "    </tr>\n",
              "  </tbody>\n",
              "</table>\n",
              "</div>"
            ],
            "text/plain": [
              "  ProductName  TotalPrice\n",
              "0      Laptop      1200.0\n",
              "3      Tablet       500.0\n",
              "1     Monitor       300.0"
            ]
          },
          "execution_count": 9,
          "metadata": {},
          "output_type": "execute_result"
        }
      ],
      "source": [
        "# Top 3 products\n",
        "top_3_products = product_revenue.head(3)\n",
        "top_3_products"
      ]
    },
    {
      "cell_type": "code",
      "execution_count": null,
      "metadata": {
        "id": "9FuUBcEPW_R9",
        "outputId": "d53221aa-69e6-4bf0-b40c-b40b0de6e6cd"
      },
      "outputs": [
        {
          "data": {
            "image/png": "[encoded data removed]",
            "text/plain": [
              "<Figure size 800x600 with 1 Axes>"
            ]
          },
          "metadata": {},
          "output_type": "display_data"
        },
        {
          "name": "stdout",
          "output_type": "stream",
          "text": [
            "Total Revenue per Customer:\n",
            "  CustomerID  TotalRevenue\n",
            "0        001        1550.0\n",
            "1        002         500.0\n",
            "\n",
            "Top 3 Products by Total Revenue:\n",
            "  ProductName  TotalPrice\n",
            "0      Laptop      1200.0\n",
            "3      Tablet       500.0\n",
            "1     Monitor       300.0\n"
          ]
        }
      ],
      "source": [
        "# Task 4: Visualize the top 3 products and their revenues using a bar chart\n",
        "plt.figure(figsize=(8, 6))\n",
        "plt.bar(top_3_products['ProductName'], top_3_products['TotalPrice'], color='skyblue')\n",
        "plt.xlabel('Product Name')\n",
        "plt.ylabel('Total Revenue')\n",
        "plt.title('Top 3 Products by Total Revenue')\n",
        "plt.show()\n",
        "\n",
        "# Display the results\n",
        "print(\"Total Revenue per Customer:\")\n",
        "print(customer_revenue)\n",
        "print(\"\\nTop 3 Products by Total Revenue:\")\n",
        "print(top_3_products)"
      ]
    },
    {
      "cell_type": "code",
      "execution_count": null,
      "metadata": {
        "id": "DRw-3U3kW_R-"
      },
      "outputs": [],
      "source": []
    }
  ],
  "metadata": {
    "kernelspec": {
      "display_name": "Python 3",
      "language": "python",
      "name": "python3"
    },
    "language_info": {
      "codemirror_mode": {
        "name": "ipython",
        "version": 3
      },
      "file_extension": ".py",
      "mimetype": "text/x-python",
      "name": "python",
      "nbconvert_exporter": "python",
      "pygments_lexer": "ipython3",
      "version": "3.10.0"
    },
    "colab": {
      "provenance": []
    }
  },
  "nbformat": 4,
  "nbformat_minor": 0
}