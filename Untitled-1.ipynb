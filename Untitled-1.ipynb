{
 "cells": [
  {
   "cell_type": "code",
   "execution_count": 4,
   "metadata": {},
   "outputs": [],
   "source": [
    "from selenium import webdriver\n",
    "web = webdriver.Chrome()\n",
    "web.get(r\"https://www.facebook.com/profile.php?id=61564029635636\")"
   ]
  },
  {
   "cell_type": "code",
   "execution_count": 5,
   "metadata": {},
   "outputs": [],
   "source": [
    "from selenium import webdriver\n",
    "from selenium.webdriver.common.by import By\n",
    "import time"
   ]
  },
  {
   "cell_type": "code",
   "execution_count": 13,
   "metadata": {},
   "outputs": [],
   "source": [
    "element = webdriver.Chrome()\n",
    "element.get(\"https://www.facebook.com/profile.php?id=61564029635636\")\n",
    "\n",
    "\n"
   ]
  },
  {
   "cell_type": "code",
   "execution_count": 19,
   "metadata": {},
   "outputs": [
    {
     "data": {
      "text/plain": [
       "[{'flow': 101, 'name': 'Mr Abdelrahman Diab  (المحارب)'}]"
      ]
     },
     "execution_count": 19,
     "metadata": {},
     "output_type": "execute_result"
    }
   ],
   "source": [
    "def page(element):\n",
    "    dic_of_page2 = []\n",
    "    name = element.find_elements(\"xpath\", \".//h1\")\n",
    "\n",
    "    \n",
    "    product_info = {\n",
    "        \"flow\": 101,\n",
    "        \"name\": name[0].text if name else \"Price not found\",\n",
    "        \n",
    "    }\n",
    "    dic_of_page2.append(product_info)\n",
    "    return dic_of_page2\n",
    "page(element)"
   ]
  },
  {
   "cell_type": "code",
   "execution_count": null,
   "metadata": {},
   "outputs": [],
   "source": []
  }
 ],
 "metadata": {
  "kernelspec": {
   "display_name": "Python 3",
   "language": "python",
   "name": "python3"
  },
  "language_info": {
   "codemirror_mode": {
    "name": "ipython",
    "version": 3
   },
   "file_extension": ".py",
   "mimetype": "text/x-python",
   "name": "python",
   "nbconvert_exporter": "python",
   "pygments_lexer": "ipython3",
   "version": "3.10.0"
  }
 },
 "nbformat": 4,
 "nbformat_minor": 2
}
